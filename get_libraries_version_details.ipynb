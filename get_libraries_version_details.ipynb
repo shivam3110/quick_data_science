{
 "cells": [
  {
   "cell_type": "code",
   "execution_count": 1,
   "id": "7d0c6056",
   "metadata": {},
   "outputs": [],
   "source": [
    "import torch\n",
    "import sys"
   ]
  },
  {
   "cell_type": "code",
   "execution_count": 2,
   "id": "87a3794f",
   "metadata": {},
   "outputs": [
    {
     "name": "stdout",
     "output_type": "stream",
     "text": [
      "A 3.9.12 (main, Apr  5 2022, 06:56:58) \n",
      "[GCC 7.5.0]\n",
      "B 1.11.0\n",
      "C True\n",
      "D True\n",
      "E NVIDIA GeForce RTX 3080 Ti\n"
     ]
    }
   ],
   "source": [
    "print('A', sys.version)\n",
    "print('B', torch.__version__)\n",
    "print('C', torch.cuda.is_available())\n",
    "print('D', torch.backends.cudnn.enabled)\n",
    "print('E', torch.cuda.get_device_name() )"
   ]
  },
  {
   "cell_type": "code",
   "execution_count": 3,
   "id": "c54d4995",
   "metadata": {},
   "outputs": [],
   "source": [
    "ngpu = 1"
   ]
  },
  {
   "cell_type": "code",
   "execution_count": 6,
   "id": "abc7096b",
   "metadata": {},
   "outputs": [
    {
     "name": "stdout",
     "output_type": "stream",
     "text": [
      "cuda:1\n"
     ]
    }
   ],
   "source": [
    "device = torch.device(\"cuda:1\" if (torch.cuda.is_available() and ngpu > 0) else \"cpu\")\n",
    "print(device)"
   ]
  },
  {
   "cell_type": "code",
   "execution_count": 7,
   "id": "bc558645",
   "metadata": {},
   "outputs": [
    {
     "name": "stdout",
     "output_type": "stream",
     "text": [
      "tensor([[1., 2., 3.],\n",
      "        [4., 5., 6.]], device='cuda:1')\n"
     ]
    }
   ],
   "source": [
    "\n",
    "my_tensor = torch.tensor([[1,2,3],[4,5,6]], dtype =torch.float32, device=device)\n",
    "print(my_tensor)"
   ]
  },
  {
   "cell_type": "code",
   "execution_count": null,
   "id": "6850c35d",
   "metadata": {},
   "outputs": [],
   "source": []
  },
  {
   "cell_type": "code",
   "execution_count": null,
   "id": "5ba255d2",
   "metadata": {},
   "outputs": [],
   "source": []
  }
 ],
 "metadata": {
  "kernelspec": {
   "display_name": "shiv",
   "language": "python",
   "name": "shiv"
  },
  "language_info": {
   "codemirror_mode": {
    "name": "ipython",
    "version": 3
   },
   "file_extension": ".py",
   "mimetype": "text/x-python",
   "name": "python",
   "nbconvert_exporter": "python",
   "pygments_lexer": "ipython3",
   "version": "3.9.12"
  }
 },
 "nbformat": 4,
 "nbformat_minor": 5
}
