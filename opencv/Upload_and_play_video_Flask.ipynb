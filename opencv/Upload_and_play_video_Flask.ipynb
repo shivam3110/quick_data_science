{
 "cells": [
  {
   "cell_type": "code",
   "execution_count": 3,
   "metadata": {},
   "outputs": [
    {
     "data": {
      "text/plain": [
       "'C:\\\\Users\\\\SHIVAM\\\\Flask_Video'"
      ]
     },
     "execution_count": 3,
     "metadata": {},
     "output_type": "execute_result"
    }
   ],
   "source": [
    "import os\n",
    "os.getcwd()"
   ]
  },
  {
   "cell_type": "code",
   "execution_count": 2,
   "metadata": {},
   "outputs": [],
   "source": [
    "os.chdir(\"C:/Users/SHIVAM/Flask_Video\")"
   ]
  },
  {
   "cell_type": "code",
   "execution_count": null,
   "metadata": {},
   "outputs": [],
   "source": [
    "from flask import Flask\n",
    "\n",
    "# UPLOAD_FOLDER = 'static/uploads/'\n",
    "\n",
    "# app = Flask(__name__)\n",
    "# app.secret_key = \"secret key\"\n",
    "# app.config['UPLOAD_FOLDER'] = UPLOAD_FOLDER\n",
    "# app.config['MAX_CONTENT_LENGTH'] = 16 * 1024 * 1024\n",
    "\n",
    "\n",
    "\n",
    "if __name__ == '__main__':\n",
    "    app.run(debug=False)"
   ]
  },
  {
   "cell_type": "code",
   "execution_count": 7,
   "metadata": {},
   "outputs": [
    {
     "name": "stdout",
     "output_type": "stream",
     "text": [
      " * Serving Flask app \"__main__\" (lazy loading)\n",
      " * Environment: production\n",
      "   WARNING: This is a development server. Do not use it in a production deployment.\n",
      "   Use a production WSGI server instead.\n",
      " * Debug mode: off\n"
     ]
    },
    {
     "name": "stderr",
     "output_type": "stream",
     "text": [
      "2022-02-14 18:58:54.291  * Running on http://127.0.0.1:5000/ (Press CTRL+C to quit)\n",
      "2022-02-14 18:58:59.650 127.0.0.1 - - [14/Feb/2022 18:58:59] \"\u001b[37mGET / HTTP/1.1\u001b[0m\" 200 -\n"
     ]
    },
    {
     "name": "stdout",
     "output_type": "stream",
     "text": [
      "upload_video filename: WWKE86JCMEC5IHM2.mp4\n"
     ]
    },
    {
     "name": "stderr",
     "output_type": "stream",
     "text": [
      "2022-02-14 19:01:12.058 127.0.0.1 - - [14/Feb/2022 19:01:12] \"\u001b[37mPOST / HTTP/1.1\u001b[0m\" 200 -\n",
      "2022-02-14 19:07:56.502 127.0.0.1 - - [14/Feb/2022 19:07:56] \"\u001b[32mGET /display/WWKE86JCMEC5IHM2.webm HTTP/1.1\u001b[0m\" 301 -\n",
      "2022-02-14 19:07:56.520 127.0.0.1 - - [14/Feb/2022 19:07:56] \"\u001b[37mGET /static/uploads/WWKE86JCMEC5IHM2.webm HTTP/1.1\u001b[0m\" 206 -\n"
     ]
    }
   ],
   "source": [
    "import os\n",
    "# from app import app\n",
    "import urllib.request\n",
    "from flask import Flask, flash, request, redirect, url_for, render_template\n",
    "from werkzeug.utils import secure_filename\n",
    "import cv2 as cv\n",
    "# from static.utils  import pipeline_model\n",
    "\n",
    "\n",
    "UPLOAD_FOLDER = 'static/uploads/'\n",
    "\n",
    "app = Flask(__name__)\n",
    "app.secret_key = \"secret key\"\n",
    "app.config['UPLOAD_FOLDER'] = UPLOAD_FOLDER\n",
    "app.config['MAX_CONTENT_LENGTH'] = 16 * 1024 * 1024\n",
    "\n",
    "\n",
    "@app.route('/')\n",
    "def upload_form():\n",
    "    return render_template('upload.html')\n",
    "\n",
    "@app.route('/', methods=['POST'])\n",
    "def upload_video():\n",
    "    if 'file' not in request.files:\n",
    "        flash('No file part')\n",
    "        return redirect(request.url)\n",
    "    file = request.files['file']\n",
    "    if file.filename == '':\n",
    "        flash('No image selected for uploading')\n",
    "        return redirect(request.url)\n",
    "    else:\n",
    "        filename = secure_filename(file.filename)\n",
    "        file.save(os.path.join(app.config['UPLOAD_FOLDER'], filename))\n",
    "        \n",
    "        print('upload_video filename: ' + filename)\n",
    "  # flash('Video successfully uploaded and displayed below')\n",
    "  \n",
    "        video = cv2.VideoCapture(UPLOAD_FOLDER+str(filename))\n",
    "        width= int(video.get(cv2.CAP_PROP_FRAME_WIDTH))\n",
    "        flash(width)\n",
    "        height= int(video.get(cv2.CAP_PROP_FRAME_HEIGHT))\n",
    "        size = (width, height)\n",
    "        fps = int(video.get(cv2.CAP_PROP_FPS))\n",
    "        filename=filename.split('.')[0]\n",
    "        #fourcc = cv2.VideoWriter_fourcc(*'H264')\n",
    "        fourcc = cv2.VideoWriter_fourcc(*\"vp80\")\n",
    "        #out = cv2.VideoWriter('Videos/output.mp4',fourcc, fps, (1080,1080))\n",
    "        writer = cv2.VideoWriter(UPLOAD_FOLDER + str(filename)+'.webm', \n",
    "\t\t\t\t\t\t\t\tfourcc,\n",
    "\t\t\t\t\t\t\t\tfps, size)\n",
    "\t\t#writer = cv2.VideoWriter('C:/Digital Engineering/Gender Detection/Web_App/' + str(filename), cv2.VideoWriter_fourcc(*'VIDX'),25, (width, height))\n",
    "\n",
    "\t\t\t\t# writer = cv2.VideoWriter('./static/uploads/' + str(filename) + '.avi', \n",
    "\t\t\t\t# \t\t\t\t\t\tcv2.VideoWriter_fourcc(*'MJPG'),\n",
    "\t\t\t\t# \t\t\t\t\t\t20, size)\n",
    "\t\t\n",
    "\t\t\t\t# writer = cv2.VideoWriter('./static/uploads/' + str(filename), cv2.VideoWriter_fourcc(*'MP4V'), fps , size)\n",
    "\t\t\t\t# writer = cv2.VideoWriter('./static/uploads/' + str(filename), cv2.VideoWriter_fourcc(*'MPEG-4'), fps , size)\n",
    "    \t\n",
    "        #filename= os.path.join(app.config['UPLOAD_FOLDER'], filename)\n",
    "        while True:\n",
    "            ret,frame= video.read()\n",
    "            if ret == True:\n",
    "#                 frame = pipeline_model(frame,filename,color='bgr')\n",
    "                frame = cv.flip(frame, 0)\n",
    "                writer.write(frame)\n",
    "            else :\n",
    "                break\n",
    "        video.release()\n",
    "        writer.release()\n",
    "        \n",
    "        \n",
    "\t\t#file.save(os.path.join(app.config['UPLOAD_FOLDER'], filename))\n",
    "\t\t#print('upload_video filename: ' + filename)\n",
    "  \n",
    "        flash('Video successfully uploaded and displayed below')\n",
    "        \n",
    "        #filename='earth.webm'\n",
    "        \n",
    "        filename=filename+'.webm'\n",
    "        flash(filename)\n",
    "        \n",
    "        return render_template('upload.html', filename=filename)\n",
    "\n",
    "@app.route('/display/<filename>')\n",
    "def display_video(filename):\n",
    "\t#print('display_video filename: ' + filename)\n",
    "\t#filename='video.avi'\n",
    "\treturn redirect(url_for('static', filename='uploads/' + filename), code=301)\n",
    "\n",
    "if __name__ == \"__main__\":\n",
    "    app.run()"
   ]
  },
  {
   "cell_type": "code",
   "execution_count": 4,
   "metadata": {},
   "outputs": [
    {
     "ename": "SyntaxError",
     "evalue": "invalid syntax (Temp/ipykernel_9392/2135223559.py, line 48)",
     "output_type": "error",
     "traceback": [
      "\u001b[1;36m  File \u001b[1;32m\"C:\\Users\\SHIVAM\\AppData\\Local\\Temp/ipykernel_9392/2135223559.py\"\u001b[1;36m, line \u001b[1;32m48\u001b[0m\n\u001b[1;33m    else:\u001b[0m\n\u001b[1;37m    ^\u001b[0m\n\u001b[1;31mSyntaxError\u001b[0m\u001b[1;31m:\u001b[0m invalid syntax\n"
     ]
    }
   ],
   "source": [
    "import os\n",
    "# from app import app\n",
    "import urllib.request\n",
    "from flask import Flask, flash, request, redirect, url_for, render_template\n",
    "from werkzeug.utils import secure_filename\n",
    "from flask import Flask\n",
    "\n",
    "UPLOAD_FOLDER = 'static/uploads/'\n",
    "\n",
    "app = Flask(__name__)\n",
    "app.secret_key = \"secret key\"\n",
    "app.config['UPLOAD_FOLDER'] = UPLOAD_FOLDER\n",
    "app.config['MAX_CONTENT_LENGTH'] = 16 * 1024 * 1024\n",
    "\n",
    "@app.route('/')\n",
    "def upload_form():\n",
    "    return render_template('upload.html')\n",
    "\n",
    "@app.route('/', methods=['POST'])\n",
    "def upload_video():\n",
    "    if 'file' not in request.files:\n",
    "        flash('No file part')\n",
    "        return redirect(request.url)\n",
    "    file = request.files['file']\n",
    "    if file.filename == '':\n",
    "        flash('No image selected for uploading')\n",
    "        return redirect(request.url)\n",
    "    else:\n",
    "        filename = secure_filename(file.filename)\n",
    "        file.save(os.path.join(app.config['UPLOAD_FOLDER'], filename))\n",
    "        print('upload_video filename: ' + filename)\n",
    "        \n",
    "        video = cv2.VideoCapture(str(filename))\n",
    "  \n",
    "        width= int(video.get(cv2.CAP_PROP_FRAME_WIDTH))\n",
    "        height= int(video.get(cv2.CAP_PROP_FRAME_HEIGHT))\n",
    "        size = ( height, width)\n",
    "        fps = int(video.get(cv2.CAP_PROP_FPS))\n",
    "        \n",
    "        writer = cv2.VideoWriter('./static/uploads/results/' + str(filename), cv2.VideoWriter_fourcc(*'MJPG'),fps, size)\n",
    "        \n",
    "        \n",
    "        while True:\n",
    "            ret,frame= video.read()\n",
    "            if ret == True:\n",
    "                frame = cv.flip(frame, 1)\n",
    "                writer.write(frame)\n",
    "            else:\n",
    "                break\n",
    "\n",
    "        video.release()\n",
    "        writer.release()\n",
    "        \n",
    "        flash('Video successfully uploaded and displayed below')\n",
    "        return render_template('upload.html', filename=filename)\n",
    "\n",
    "@app.route('/display/<filename>')\n",
    "def display_video(filename):\n",
    "    print('display_video filename: ' + filename)\n",
    "    return redirect(url_for('static/', filename='uploads/results/' + filename), code=301)\n",
    "\n",
    "if __name__ == \"__main__\":\n",
    "    app.run()"
   ]
  },
  {
   "cell_type": "code",
   "execution_count": 10,
   "metadata": {},
   "outputs": [
    {
     "name": "stdout",
     "output_type": "stream",
     "text": [
      " * Serving Flask app \"__main__\" (lazy loading)\n",
      " * Environment: production\n",
      "   WARNING: This is a development server. Do not use it in a production deployment.\n",
      "   Use a production WSGI server instead.\n",
      " * Debug mode: off\n"
     ]
    },
    {
     "name": "stderr",
     "output_type": "stream",
     "text": [
      " * Running on http://127.0.0.1:5000/ (Press CTRL+C to quit)\n",
      "127.0.0.1 - - [09/Feb/2022 21:25:58] \"\u001b[37mGET / HTTP/1.1\u001b[0m\" 200 -\n",
      "127.0.0.1 - - [09/Feb/2022 21:26:07] \"\u001b[37mPOST / HTTP/1.1\u001b[0m\" 200 -\n",
      "127.0.0.1 - - [09/Feb/2022 21:26:07] \"\u001b[33mGET /static/uploads/results/video.mp4 HTTP/1.1\u001b[0m\" 404 -\n"
     ]
    },
    {
     "name": "stdout",
     "output_type": "stream",
     "text": [
      "upload_video filename: WWKE86JCMEC5IHM2.mp4\n",
      "yesxxxxxxxxxxxxxxxxxxxxxxxxx\n"
     ]
    }
   ],
   "source": [
    "import os\n",
    "# from app import app\n",
    "import urllib.request\n",
    "from flask import Flask, flash, request, redirect, url_for, render_template\n",
    "from werkzeug.utils import secure_filename\n",
    "from flask import Flask\n",
    "import cv2\n",
    "\n",
    "UPLOAD_FOLDER = 'static/uploads/'\n",
    "\n",
    "app = Flask(__name__)\n",
    "app.secret_key = \"secret key\"\n",
    "app.config['UPLOAD_FOLDER'] = UPLOAD_FOLDER\n",
    "app.config['MAX_CONTENT_LENGTH'] = 16 * 1024 * 1024\n",
    "\n",
    "@app.route('/')\n",
    "def upload_form():\n",
    "    return render_template('upload.html')\n",
    "\n",
    "@app.route('/', methods=['POST'])\n",
    "def upload_video():\n",
    "    if 'file' not in request.files:\n",
    "        flash('No file part')\n",
    "        return redirect(request.url)\n",
    "    file = request.files['file']\n",
    "    if file.filename == '':\n",
    "        flash('No image selected for uploading')\n",
    "        return redirect(request.url)\n",
    "    else:\n",
    "        filename = secure_filename(file.filename)\n",
    "        file.save(os.path.join(app.config['UPLOAD_FOLDER'], filename))\n",
    "        print('upload_video filename: ' + filename)\n",
    "        \n",
    "        video = cv2.VideoCapture(str(filename))\n",
    "  \n",
    "        width= int(video.get(cv2.CAP_PROP_FRAME_WIDTH))\n",
    "        height= int(video.get(cv2.CAP_PROP_FRAME_HEIGHT))\n",
    "        size = (height, width)\n",
    "        fps = int(video.get(cv2.CAP_PROP_FPS))\n",
    "        print(\"yesxxxxxxxxxxxxxxxxxxxxxxxxx\")\n",
    "        \n",
    "        writer = cv2.VideoWriter('./static/uploads/results/video.webm', cv2.VideoWriter_fourcc(*'XVID'),fps, (width, height))\n",
    "        \n",
    "        \n",
    "        while (video.isOpened()):\n",
    "            ret,frame= video.read()\n",
    "            if ret == True:\n",
    "                frame_flipped = cv.flip(frame, 1)\n",
    "                writer.write(frame_flipped)\n",
    "            else:\n",
    "                break\n",
    "\n",
    "        video.release()\n",
    "        writer.release()\n",
    "        \n",
    "        flash('Video successfully uploaded and displayed below')\n",
    "        return render_template('upload.html', filename=filename)\n",
    "\n",
    "@app.route('/display/<filename>')\n",
    "def display_video(filename):\n",
    "    print('display_video filename: ' + filename)\n",
    "    return redirect(url_for('static', filename='uploads/results/video.webm'), code=301)\n",
    "\n",
    "if __name__ == \"__main__\":\n",
    "    app.run(debug = False)"
   ]
  },
  {
   "cell_type": "code",
   "execution_count": null,
   "metadata": {},
   "outputs": [],
   "source": []
  }
 ],
 "metadata": {
  "kernelspec": {
   "display_name": "Python 3 (ipykernel)",
   "language": "python",
   "name": "python3"
  },
  "language_info": {
   "codemirror_mode": {
    "name": "ipython",
    "version": 3
   },
   "file_extension": ".py",
   "mimetype": "text/x-python",
   "name": "python",
   "nbconvert_exporter": "python",
   "pygments_lexer": "ipython3",
   "version": "3.8.5"
  }
 },
 "nbformat": 4,
 "nbformat_minor": 4
}
