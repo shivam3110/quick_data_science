{
 "cells": [
  {
   "cell_type": "code",
   "execution_count": 1,
   "metadata": {},
   "outputs": [
    {
     "name": "stdout",
     "output_type": "stream",
     "text": [
      "The history saving thread hit an unexpected error (OperationalError('database or disk is full')).History will not be written to the database.\n"
     ]
    },
    {
     "data": {
      "text/html": [
       "<div>\n",
       "<style scoped>\n",
       "    .dataframe tbody tr th:only-of-type {\n",
       "        vertical-align: middle;\n",
       "    }\n",
       "\n",
       "    .dataframe tbody tr th {\n",
       "        vertical-align: top;\n",
       "    }\n",
       "\n",
       "    .dataframe thead th {\n",
       "        text-align: right;\n",
       "    }\n",
       "</style>\n",
       "<table border=\"1\" class=\"dataframe\">\n",
       "  <thead>\n",
       "    <tr style=\"text-align: right;\">\n",
       "      <th></th>\n",
       "      <th>alcohol</th>\n",
       "      <th>malic_acid</th>\n",
       "      <th>ash</th>\n",
       "      <th>alcalinity_of_ash</th>\n",
       "      <th>magnesium</th>\n",
       "      <th>total_phenols</th>\n",
       "      <th>flavanoids</th>\n",
       "      <th>nonflavanoid_phenols</th>\n",
       "      <th>proanthocyanins</th>\n",
       "      <th>color_intensity</th>\n",
       "      <th>hue</th>\n",
       "      <th>od280/od315_of_diluted_wines</th>\n",
       "      <th>proline</th>\n",
       "      <th>target</th>\n",
       "    </tr>\n",
       "  </thead>\n",
       "  <tbody>\n",
       "    <tr>\n",
       "      <th>0</th>\n",
       "      <td>14.23</td>\n",
       "      <td>1.71</td>\n",
       "      <td>2.43</td>\n",
       "      <td>15.6</td>\n",
       "      <td>127.0</td>\n",
       "      <td>2.80</td>\n",
       "      <td>3.06</td>\n",
       "      <td>0.28</td>\n",
       "      <td>2.29</td>\n",
       "      <td>5.64</td>\n",
       "      <td>1.04</td>\n",
       "      <td>3.92</td>\n",
       "      <td>1065.0</td>\n",
       "      <td>0</td>\n",
       "    </tr>\n",
       "    <tr>\n",
       "      <th>1</th>\n",
       "      <td>13.20</td>\n",
       "      <td>1.78</td>\n",
       "      <td>2.14</td>\n",
       "      <td>11.2</td>\n",
       "      <td>100.0</td>\n",
       "      <td>2.65</td>\n",
       "      <td>2.76</td>\n",
       "      <td>0.26</td>\n",
       "      <td>1.28</td>\n",
       "      <td>4.38</td>\n",
       "      <td>1.05</td>\n",
       "      <td>3.40</td>\n",
       "      <td>1050.0</td>\n",
       "      <td>0</td>\n",
       "    </tr>\n",
       "    <tr>\n",
       "      <th>2</th>\n",
       "      <td>13.16</td>\n",
       "      <td>2.36</td>\n",
       "      <td>2.67</td>\n",
       "      <td>18.6</td>\n",
       "      <td>101.0</td>\n",
       "      <td>2.80</td>\n",
       "      <td>3.24</td>\n",
       "      <td>0.30</td>\n",
       "      <td>2.81</td>\n",
       "      <td>5.68</td>\n",
       "      <td>1.03</td>\n",
       "      <td>3.17</td>\n",
       "      <td>1185.0</td>\n",
       "      <td>0</td>\n",
       "    </tr>\n",
       "    <tr>\n",
       "      <th>3</th>\n",
       "      <td>14.37</td>\n",
       "      <td>1.95</td>\n",
       "      <td>2.50</td>\n",
       "      <td>16.8</td>\n",
       "      <td>113.0</td>\n",
       "      <td>3.85</td>\n",
       "      <td>3.49</td>\n",
       "      <td>0.24</td>\n",
       "      <td>2.18</td>\n",
       "      <td>7.80</td>\n",
       "      <td>0.86</td>\n",
       "      <td>3.45</td>\n",
       "      <td>1480.0</td>\n",
       "      <td>0</td>\n",
       "    </tr>\n",
       "    <tr>\n",
       "      <th>4</th>\n",
       "      <td>13.24</td>\n",
       "      <td>2.59</td>\n",
       "      <td>2.87</td>\n",
       "      <td>21.0</td>\n",
       "      <td>118.0</td>\n",
       "      <td>2.80</td>\n",
       "      <td>2.69</td>\n",
       "      <td>0.39</td>\n",
       "      <td>1.82</td>\n",
       "      <td>4.32</td>\n",
       "      <td>1.04</td>\n",
       "      <td>2.93</td>\n",
       "      <td>735.0</td>\n",
       "      <td>0</td>\n",
       "    </tr>\n",
       "  </tbody>\n",
       "</table>\n",
       "</div>"
      ],
      "text/plain": [
       "   alcohol  malic_acid   ash  alcalinity_of_ash  magnesium  total_phenols  \\\n",
       "0    14.23        1.71  2.43               15.6      127.0           2.80   \n",
       "1    13.20        1.78  2.14               11.2      100.0           2.65   \n",
       "2    13.16        2.36  2.67               18.6      101.0           2.80   \n",
       "3    14.37        1.95  2.50               16.8      113.0           3.85   \n",
       "4    13.24        2.59  2.87               21.0      118.0           2.80   \n",
       "\n",
       "   flavanoids  nonflavanoid_phenols  proanthocyanins  color_intensity   hue  \\\n",
       "0        3.06                  0.28             2.29             5.64  1.04   \n",
       "1        2.76                  0.26             1.28             4.38  1.05   \n",
       "2        3.24                  0.30             2.81             5.68  1.03   \n",
       "3        3.49                  0.24             2.18             7.80  0.86   \n",
       "4        2.69                  0.39             1.82             4.32  1.04   \n",
       "\n",
       "   od280/od315_of_diluted_wines  proline  target  \n",
       "0                          3.92   1065.0       0  \n",
       "1                          3.40   1050.0       0  \n",
       "2                          3.17   1185.0       0  \n",
       "3                          3.45   1480.0       0  \n",
       "4                          2.93    735.0       0  "
      ]
     },
     "execution_count": 1,
     "metadata": {},
     "output_type": "execute_result"
    }
   ],
   "source": [
    "import numpy as np\n",
    "from sklearn.datasets import load_wine\n",
    "\n",
    "# as_frame param requires scikit-learn >= 0.23\n",
    "data = load_wine(as_frame=True)\n",
    "\n",
    "# Print first rows of the data\n",
    "data.frame.head()"
   ]
  },
  {
   "cell_type": "code",
   "execution_count": 2,
   "metadata": {},
   "outputs": [],
   "source": [
    "from sklearn.model_selection import train_test_split\n",
    "from sklearn.preprocessing import StandardScaler\n",
    "\n",
    "# Train / Test split\n",
    "X_train, X_test, y_train, y_test = train_test_split(data.data, data.target, random_state=42)\n",
    "\n",
    "# Instantiate StandardScaler\n",
    "scaler = StandardScaler()\n",
    "\n",
    "# Fit it to the train data\n",
    "scaler.fit(X_train)\n",
    "\n",
    "# Use it to transform the train and test data\n",
    "X_train = scaler.transform(X_train)\n",
    "\n",
    "# Notice that the scaler is trained on the train data to avoid data leakage from the test set\n",
    "X_test = scaler.transform(X_test)"
   ]
  },
  {
   "cell_type": "code",
   "execution_count": 3,
   "metadata": {},
   "outputs": [
    {
     "data": {
      "text/plain": [
       "0.9111111111111111"
      ]
     },
     "execution_count": 3,
     "metadata": {},
     "output_type": "execute_result"
    }
   ],
   "source": [
    "from sklearn.ensemble import RandomForestClassifier\n",
    "\n",
    "# Fit the classifier\n",
    "rf_clf = RandomForestClassifier(n_estimators=10, random_state=42).fit(X_train, y_train)\n",
    "\n",
    "# Print the mean accuracy achieved by the classifier on the test set\n",
    "rf_clf.score(X_test, y_test)"
   ]
  },
  {
   "cell_type": "code",
   "execution_count": 10,
   "metadata": {},
   "outputs": [],
   "source": [
    "from sklearn.inspection import permutation_importance\n",
    "\n",
    "def feature_importance(clf, X, y, top_limit=None):\n",
    "    \n",
    "\n",
    "      # Retrieve the Bunch object after 50 repeats\n",
    "      # n_repeats is the number of times that each feature was permuted to compute the final score\n",
    "      bunch = permutation_importance(clf, X, y,\n",
    "                                     n_repeats=50, random_state=42)\n",
    "\n",
    "      # Average feature importance\n",
    "      imp_means = bunch.importances_mean\n",
    "\n",
    "      # List that contains the index of each feature in descending order of importance\n",
    "      ordered_imp_means_args = np.argsort(imp_means)[::-1]\n",
    "\n",
    "      # If no limit print all features\n",
    "      if top_limit is None:\n",
    "        top_limit = len(ordered_imp_means_args)\n",
    "\n",
    "      # Print relevant information\n",
    "      for i, _ in zip(ordered_imp_means_args, range(top_limit)):\n",
    "        name = data.feature_names[i]\n",
    "        imp_score = imp_means[i]\n",
    "        imp_std = bunch.importances_std[i]\n",
    "        print(f\"Feature \\033[1m{name} \\033[0m with index {i} has an \\033[1m average importance score of {imp_score:.3f} +/- {imp_std:.3f}\\033[0m\\n\")"
   ]
  },
  {
   "cell_type": "code",
   "execution_count": 11,
   "metadata": {},
   "outputs": [
    {
     "name": "stdout",
     "output_type": "stream",
     "text": [
      "Feature \u001b[1mflavanoids \u001b[0m with index 6 has an \u001b[1m average importance score of 0.227 +/- 0.025\u001b[0m\n",
      "\n",
      "Feature \u001b[1mproline \u001b[0m with index 12 has an \u001b[1m average importance score of 0.142 +/- 0.019\u001b[0m\n",
      "\n",
      "Feature \u001b[1mcolor_intensity \u001b[0m with index 9 has an \u001b[1m average importance score of 0.112 +/- 0.023\u001b[0m\n",
      "\n",
      "Feature \u001b[1mod280/od315_of_diluted_wines \u001b[0m with index 11 has an \u001b[1m average importance score of 0.007 +/- 0.005\u001b[0m\n",
      "\n",
      "Feature \u001b[1mtotal_phenols \u001b[0m with index 5 has an \u001b[1m average importance score of 0.003 +/- 0.004\u001b[0m\n",
      "\n",
      "Feature \u001b[1mmalic_acid \u001b[0m with index 1 has an \u001b[1m average importance score of 0.002 +/- 0.004\u001b[0m\n",
      "\n",
      "Feature \u001b[1mproanthocyanins \u001b[0m with index 8 has an \u001b[1m average importance score of 0.002 +/- 0.003\u001b[0m\n",
      "\n",
      "Feature \u001b[1mhue \u001b[0m with index 10 has an \u001b[1m average importance score of 0.002 +/- 0.003\u001b[0m\n",
      "\n",
      "Feature \u001b[1mnonflavanoid_phenols \u001b[0m with index 7 has an \u001b[1m average importance score of 0.000 +/- 0.000\u001b[0m\n",
      "\n",
      "Feature \u001b[1mmagnesium \u001b[0m with index 4 has an \u001b[1m average importance score of 0.000 +/- 0.000\u001b[0m\n",
      "\n",
      "Feature \u001b[1malcalinity_of_ash \u001b[0m with index 3 has an \u001b[1m average importance score of 0.000 +/- 0.000\u001b[0m\n",
      "\n",
      "Feature \u001b[1mash \u001b[0m with index 2 has an \u001b[1m average importance score of 0.000 +/- 0.000\u001b[0m\n",
      "\n",
      "Feature \u001b[1malcohol \u001b[0m with index 0 has an \u001b[1m average importance score of 0.000 +/- 0.000\u001b[0m\n",
      "\n"
     ]
    }
   ],
   "source": [
    "feature_importance(rf_clf, X_train, y_train)"
   ]
  },
  {
   "cell_type": "code",
   "execution_count": 12,
   "metadata": {},
   "outputs": [
    {
     "name": "stdout",
     "output_type": "stream",
     "text": [
      "Feature \u001b[1mflavanoids \u001b[0m with index 6 has an \u001b[1m average importance score of 0.202 +/- 0.047\u001b[0m\n",
      "\n",
      "Feature \u001b[1mproline \u001b[0m with index 12 has an \u001b[1m average importance score of 0.143 +/- 0.042\u001b[0m\n",
      "\n",
      "Feature \u001b[1mcolor_intensity \u001b[0m with index 9 has an \u001b[1m average importance score of 0.112 +/- 0.043\u001b[0m\n",
      "\n",
      "Feature \u001b[1malcohol \u001b[0m with index 0 has an \u001b[1m average importance score of 0.024 +/- 0.017\u001b[0m\n",
      "\n",
      "Feature \u001b[1mmagnesium \u001b[0m with index 4 has an \u001b[1m average importance score of 0.021 +/- 0.015\u001b[0m\n",
      "\n",
      "Feature \u001b[1mod280/od315_of_diluted_wines \u001b[0m with index 11 has an \u001b[1m average importance score of 0.015 +/- 0.018\u001b[0m\n",
      "\n",
      "Feature \u001b[1mhue \u001b[0m with index 10 has an \u001b[1m average importance score of 0.013 +/- 0.018\u001b[0m\n",
      "\n",
      "Feature \u001b[1mtotal_phenols \u001b[0m with index 5 has an \u001b[1m average importance score of 0.002 +/- 0.016\u001b[0m\n",
      "\n",
      "Feature \u001b[1mnonflavanoid_phenols \u001b[0m with index 7 has an \u001b[1m average importance score of 0.000 +/- 0.000\u001b[0m\n",
      "\n",
      "Feature \u001b[1malcalinity_of_ash \u001b[0m with index 3 has an \u001b[1m average importance score of 0.000 +/- 0.000\u001b[0m\n",
      "\n",
      "Feature \u001b[1mmalic_acid \u001b[0m with index 1 has an \u001b[1m average importance score of -0.002 +/- 0.017\u001b[0m\n",
      "\n",
      "Feature \u001b[1mash \u001b[0m with index 2 has an \u001b[1m average importance score of -0.003 +/- 0.008\u001b[0m\n",
      "\n",
      "Feature \u001b[1mproanthocyanins \u001b[0m with index 8 has an \u001b[1m average importance score of -0.021 +/- 0.020\u001b[0m\n",
      "\n"
     ]
    }
   ],
   "source": [
    "feature_importance(rf_clf, X_test, y_test)"
   ]
  },
  {
   "cell_type": "markdown",
   "metadata": {},
   "source": [
    "Notice that the top most important features are the same for both sets. However features such as **alcohol**, which was considered not important for the training set is much more important when using the testing set. This hints that this feature will contribute to the generalization power of the model.\n",
    "\n",
    "**If a feature is deemed as important for the train set but not for the testing, this feature will probably cause the model to overfit.**\n",
    "\n",
    "## Re-train the model with the most important features\n",
    "\n",
    "Now you will re-train the Random Forest classifier with only the top 3 most important features. \n",
    "\n",
    "In this case they are the same for both sets:"
   ]
  },
  {
   "cell_type": "code",
   "execution_count": 13,
   "metadata": {},
   "outputs": [
    {
     "name": "stdout",
     "output_type": "stream",
     "text": [
      "On TRAIN split:\n",
      "\n",
      "Feature \u001b[1mflavanoids \u001b[0m with index 6 has an \u001b[1m average importance score of 0.227 +/- 0.025\u001b[0m\n",
      "\n",
      "Feature \u001b[1mproline \u001b[0m with index 12 has an \u001b[1m average importance score of 0.142 +/- 0.019\u001b[0m\n",
      "\n",
      "Feature \u001b[1mcolor_intensity \u001b[0m with index 9 has an \u001b[1m average importance score of 0.112 +/- 0.023\u001b[0m\n",
      "\n",
      "\n",
      "On TEST split:\n",
      "\n",
      "Feature \u001b[1mflavanoids \u001b[0m with index 6 has an \u001b[1m average importance score of 0.202 +/- 0.047\u001b[0m\n",
      "\n",
      "Feature \u001b[1mproline \u001b[0m with index 12 has an \u001b[1m average importance score of 0.143 +/- 0.042\u001b[0m\n",
      "\n",
      "Feature \u001b[1mcolor_intensity \u001b[0m with index 9 has an \u001b[1m average importance score of 0.112 +/- 0.043\u001b[0m\n",
      "\n"
     ]
    }
   ],
   "source": [
    "print(\"On TRAIN split:\\n\")\n",
    "feature_importance(rf_clf, X_train, y_train, top_limit=3)\n",
    "\n",
    "print(\"\\nOn TEST split:\\n\")\n",
    "feature_importance(rf_clf, X_test, y_test, top_limit=3)"
   ]
  },
  {
   "cell_type": "code",
   "execution_count": 14,
   "metadata": {},
   "outputs": [
    {
     "data": {
      "text/plain": [
       "0.9333333333333333"
      ]
     },
     "execution_count": 14,
     "metadata": {},
     "output_type": "execute_result"
    }
   ],
   "source": [
    "# Preserve only the top 3 features\n",
    "X_train_top_features = X_train[:,[6, 9, 12]]\n",
    "X_test_top_features = X_test[:,[6, 9, 12]]\n",
    "\n",
    "# Re-train with only these features\n",
    "rf_clf_top = RandomForestClassifier(n_estimators=10, random_state=42).fit(X_train_top_features, y_train)\n",
    "\n",
    "# Compute mean accuracy achieved\n",
    "rf_clf_top.score(X_test_top_features, y_test)"
   ]
  },
  {
   "cell_type": "markdown",
   "metadata": {},
   "source": [
    "Notice that by using only the 3 most important features the model achieved a mean accuracy even higher than the one using all 13 features. \n",
    "\n",
    "\n",
    "Remember that the **alcohol** feature was deemed not important in the train split but you had the hypotheses that it had important information for the generalization of the model. \n",
    "\n",
    "Add this feature and see how the model performs:"
   ]
  },
  {
   "cell_type": "code",
   "execution_count": 15,
   "metadata": {},
   "outputs": [
    {
     "data": {
      "text/plain": [
       "1.0"
      ]
     },
     "execution_count": 15,
     "metadata": {},
     "output_type": "execute_result"
    }
   ],
   "source": [
    "# Preserve only the top 3 features\n",
    "X_train_top_features = X_train[:,[0, 6, 9, 12]]\n",
    "X_test_top_features = X_test[:,[0, 6, 9, 12]]\n",
    "\n",
    "# Re-train with only these features\n",
    "rf_clf_top = RandomForestClassifier(n_estimators=10, random_state=42).fit(X_train_top_features, y_train)\n",
    "\n",
    "# Compute mean accuracy achieved\n",
    "rf_clf_top.score(X_test_top_features, y_test)"
   ]
  },
  {
   "cell_type": "markdown",
   "metadata": {},
   "source": [
    "Wow! By adding this additional feature you know get a mean accuracy of 100%! Quite remarkable! Looks like this feature did in fact provided some important information that helped the model do a better job at generalizing."
   ]
  },
  {
   "cell_type": "markdown",
   "metadata": {},
   "source": [
    "## Try out other classifiers\n",
    "\n",
    "The process of Permutation Feature Importance is also dependant on the classifier you are using. Since different classifiers follow different rules for classification it is natural to assume they will consider different features to be important or unimportant.\n",
    "\n",
    "To test this, try out other classifiers:"
   ]
  },
  {
   "cell_type": "code",
   "execution_count": 18,
   "metadata": {},
   "outputs": [
    {
     "name": "stdout",
     "output_type": "stream",
     "text": [
      "====================================================================================================\n",
      "➡️ \u001b[1m  Laso classifier \u001b[0m \n",
      "\n",
      "📏 Mean accuracy score on the test set: 86.80%\n",
      "\n",
      "🔝 \u001b[1m Top 4 features when using the test set:\u001b[0m \n",
      "\n",
      "Feature \u001b[1mflavanoids \u001b[0m with index 6 has an \u001b[1m average importance score of 0.323 +/- 0.055\u001b[0m\n",
      "\n",
      "Feature \u001b[1mproline \u001b[0m with index 12 has an \u001b[1m average importance score of 0.203 +/- 0.035\u001b[0m\n",
      "\n",
      "Feature \u001b[1mod280/od315_of_diluted_wines \u001b[0m with index 11 has an \u001b[1m average importance score of 0.146 +/- 0.030\u001b[0m\n",
      "\n",
      "Feature \u001b[1malcalinity_of_ash \u001b[0m with index 3 has an \u001b[1m average importance score of 0.038 +/- 0.014\u001b[0m\n",
      "\n",
      "====================================================================================================\n",
      "➡️ \u001b[1m  Ridge classifier \u001b[0m \n",
      "\n",
      "📏 Mean accuracy score on the test set: 88.71%\n",
      "\n",
      "🔝 \u001b[1m Top 4 features when using the test set:\u001b[0m \n",
      "\n",
      "Feature \u001b[1mflavanoids \u001b[0m with index 6 has an \u001b[1m average importance score of 0.445 +/- 0.071\u001b[0m\n",
      "\n",
      "Feature \u001b[1mproline \u001b[0m with index 12 has an \u001b[1m average importance score of 0.210 +/- 0.035\u001b[0m\n",
      "\n",
      "Feature \u001b[1mcolor_intensity \u001b[0m with index 9 has an \u001b[1m average importance score of 0.119 +/- 0.029\u001b[0m\n",
      "\n",
      "Feature \u001b[1mod280/od315_of_diluted_wines \u001b[0m with index 11 has an \u001b[1m average importance score of 0.111 +/- 0.026\u001b[0m\n",
      "\n",
      "====================================================================================================\n",
      "➡️ \u001b[1m  Decision Tree classifier \u001b[0m \n",
      "\n",
      "📏 Mean accuracy score on the test set: 93.33%\n",
      "\n",
      "🔝 \u001b[1m Top 4 features when using the test set:\u001b[0m \n",
      "\n",
      "Feature \u001b[1mflavanoids \u001b[0m with index 6 has an \u001b[1m average importance score of 0.297 +/- 0.061\u001b[0m\n",
      "\n",
      "Feature \u001b[1mcolor_intensity \u001b[0m with index 9 has an \u001b[1m average importance score of 0.206 +/- 0.046\u001b[0m\n",
      "\n",
      "Feature \u001b[1malcohol \u001b[0m with index 0 has an \u001b[1m average importance score of 0.049 +/- 0.020\u001b[0m\n",
      "\n",
      "Feature \u001b[1mproline \u001b[0m with index 12 has an \u001b[1m average importance score of 0.041 +/- 0.020\u001b[0m\n",
      "\n",
      "====================================================================================================\n",
      "➡️ \u001b[1m  Support Vector classifier \u001b[0m \n",
      "\n",
      "📏 Mean accuracy score on the test set: 97.78%\n",
      "\n",
      "🔝 \u001b[1m Top 4 features when using the test set:\u001b[0m \n",
      "\n",
      "Feature \u001b[1mproline \u001b[0m with index 12 has an \u001b[1m average importance score of 0.069 +/- 0.031\u001b[0m\n",
      "\n",
      "Feature \u001b[1mflavanoids \u001b[0m with index 6 has an \u001b[1m average importance score of 0.061 +/- 0.023\u001b[0m\n",
      "\n",
      "Feature \u001b[1malcohol \u001b[0m with index 0 has an \u001b[1m average importance score of 0.044 +/- 0.023\u001b[0m\n",
      "\n",
      "Feature \u001b[1mash \u001b[0m with index 2 has an \u001b[1m average importance score of 0.032 +/- 0.018\u001b[0m\n",
      "\n"
     ]
    }
   ],
   "source": [
    "from sklearn.svm import SVC\n",
    "from sklearn.linear_model import Lasso, Ridge\n",
    "from sklearn.tree import DecisionTreeClassifier\n",
    "\n",
    "# Select 4 new classifiers\n",
    "clfs = {\"Laso\": Lasso(alpha=0.05), \n",
    "        \"Ridge\": Ridge(), \n",
    "        \"Decision Tree\": DecisionTreeClassifier(), \n",
    "        \"Support Vector\": SVC()}\n",
    "\n",
    "\n",
    "# Compute feature importance on the test set given a classifier\n",
    "def fit_compute_importance(clf):\n",
    "    clf.fit(X_train, y_train)\n",
    "    print(f\"📏 Mean accuracy score on the test set: {clf.score(X_test, y_test)*100:.2f}%\\n\")\n",
    "    print(\"🔝 \\033[1m Top 4 features when using the test set:\\033[0m \\n\")\n",
    "    feature_importance(clf, X_test, y_test, top_limit=4)\n",
    "\n",
    "\n",
    "# Print results\n",
    "for name, clf in clfs.items():\n",
    "    print(\"=====\"*20)\n",
    "    print(f\"➡️ \\033[1m  {name} classifier \\033[0m \\n\")\n",
    "    fit_compute_importance(clf)"
   ]
  },
  {
   "cell_type": "markdown",
   "metadata": {},
   "source": [
    "Looks like **flavanoids** and **proline** are very important across all classifiers. However there is variability from one classifier to the others on what features are considered the most important ones."
   ]
  },
  {
   "cell_type": "code",
   "execution_count": null,
   "metadata": {},
   "outputs": [],
   "source": []
  }
 ],
 "metadata": {
  "kernelspec": {
   "display_name": "Python 3 (ipykernel)",
   "language": "python",
   "name": "python3"
  },
  "language_info": {
   "codemirror_mode": {
    "name": "ipython",
    "version": 3
   },
   "file_extension": ".py",
   "mimetype": "text/x-python",
   "name": "python",
   "nbconvert_exporter": "python",
   "pygments_lexer": "ipython3",
   "version": "3.8.5"
  }
 },
 "nbformat": 4,
 "nbformat_minor": 4
}
