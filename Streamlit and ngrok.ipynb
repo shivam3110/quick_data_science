{
 "cells": [
  {
   "cell_type": "code",
   "execution_count": null,
   "metadata": {},
   "outputs": [],
   "source": [
    "%%writefile  app.py"
   ]
  },
  {
   "cell_type": "code",
   "execution_count": 3,
   "metadata": {
    "collapsed": true
   },
   "outputs": [
    {
     "name": "stdout",
     "output_type": "stream",
     "text": [
      "Requirement already satisfied: h5py in c:\\users\\shivam\\anaconda3\\lib\\site-packages (3.1.0)\n",
      "Requirement already satisfied: numpy>=1.17.5; python_version == \"3.8\" in c:\\users\\shivam\\anaconda3\\lib\\site-packages (from h5py) (1.21.0)\n"
     ]
    }
   ],
   "source": [
    "!pip install h5py"
   ]
  },
  {
   "cell_type": "code",
   "execution_count": 5,
   "metadata": {},
   "outputs": [],
   "source": []
  },
  {
   "cell_type": "code",
   "execution_count": 1,
   "metadata": {},
   "outputs": [
    {
     "name": "stdout",
     "output_type": "stream",
     "text": [
      "Overwriting predict_image_class.py\n"
     ]
    }
   ],
   "source": [
    "%%writefile  predict_image_class.py\n",
    "\n",
    "import glob\n",
    "import cv2 as cv\n",
    "import tensorflow as tf\n",
    "import tensorflow_hub as hub\n",
    "import numpy as np\n",
    "# import pandas as pd\n",
    "import matplotlib.pyplot as plt\n",
    "import os\n",
    "import random\n",
    "from PIL import Image, ImageOps\n",
    "import streamlit as st\n",
    "import random\n",
    "from keras import preprocessing\n",
    "from keras.models import Model, load_model\n",
    "from tensorflow.keras.activations import softmax\n",
    "import h5py\n",
    "# from tensorflow.keras.callbacks import EarlyStopping, LearningRateScheduler, ReduceLROnPlateau\n",
    "# from keras.layers import Input, Conv2D, MaxPooling2D, UpSampling2D, concatenate, Conv2DTranspose, BatchNormalization, Dropout, Lambda, Flatten, GlobalAveragePooling2D\n",
    "from keras.applications import InceptionV3\n",
    "from keras import Sequential\n",
    "# from keras.layers import Dense\n",
    "import math\n",
    "from keras.preprocessing.image import ImageDataGenerator, array_to_img, img_to_array, load_img\n",
    "\n",
    "\n",
    "st.header(\" Image Class Predicter\")\n",
    "\n",
    "def main():\n",
    "    file_uploader = st.file_uploader(\" Choose a image file\", type = ['jpg','jpeg','png'])\n",
    "    if file_uploader is not None:\n",
    "        image = Image.open(file_uploader)\n",
    "        figure = plt.figure()\n",
    "        plt.imshow(image)\n",
    "        plt.axis('off')\n",
    "        result = predict_class(image)\n",
    "        st.write(image)\n",
    "        st.pyplot(figure)\n",
    "        \n",
    "        \n",
    "def predict_class(image):\n",
    "    classifier_model = load_model(\"\")\n",
    "    shape = ((48,48,1))\n",
    "    model = Sequential([hub.KerasLayer(classifier_model, input_shape= shape)])\n",
    "    test_image = image.resize((48,48))\n",
    "    test_image = img_to_array(test_image)\n",
    "    test_image = np.expand_dims(test_image, axis = 0)\n",
    "    class_name = ['Angry',\n",
    "                 'Disgust',\n",
    "                 'Fear',\n",
    "                 'Happy',\n",
    "                 'Neutral',\n",
    "                 'Sadness',\n",
    "                 'Surprise']\n",
    "    predictions = model.predict(test_image)\n",
    "    scores = tf.nn.softmax(prediction[0])\n",
    "    scores =  scores.numpy()\n",
    "    image_class = class_name[np.argmax(scores)] \n",
    "    result =  \" The image uploaded is: {}\".format(image_class)\n",
    "    return result\n",
    "\n",
    "if __name__ == \"__main__\":\n",
    "    main()"
   ]
  },
  {
   "cell_type": "code",
   "execution_count": 2,
   "metadata": {},
   "outputs": [
    {
     "name": "stdout",
     "output_type": "stream",
     "text": [
      "^C\n"
     ]
    }
   ],
   "source": [
    "!streamlit run predict_image_class.py"
   ]
  },
  {
   "cell_type": "code",
   "execution_count": 8,
   "metadata": {},
   "outputs": [],
   "source": [
    "get_ipython().system_raw('./ngrok http 8051 &')"
   ]
  },
  {
   "cell_type": "code",
   "execution_count": 10,
   "metadata": {},
   "outputs": [],
   "source": [
    "import curl"
   ]
  },
  {
   "cell_type": "code",
   "execution_count": 11,
   "metadata": {},
   "outputs": [
    {
     "name": "stderr",
     "output_type": "stream",
     "text": [
      "Python was not found; run without arguments to install from the Microsoft Store, or disable this shortcut from Settings > Manage App Execution Aliases.\n"
     ]
    }
   ],
   "source": [
    "!curl -s https://localhost:4040/api/tunnel | python3 -c \\\n",
    "        'import sys, json; print(\"Execute the next line and go the ngrok URL:\"+ json.load(sys.stdin)[\"tunnels\"][0][\"public_url\"])'"
   ]
  }
 ],
 "metadata": {
  "kernelspec": {
   "display_name": "Python 3 (ipykernel)",
   "language": "python",
   "name": "python3"
  },
  "language_info": {
   "codemirror_mode": {
    "name": "ipython",
    "version": 3
   },
   "file_extension": ".py",
   "mimetype": "text/x-python",
   "name": "python",
   "nbconvert_exporter": "python",
   "pygments_lexer": "ipython3",
   "version": "3.8.5"
  }
 },
 "nbformat": 4,
 "nbformat_minor": 4
}
